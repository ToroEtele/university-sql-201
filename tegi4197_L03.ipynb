{
    "metadata": {
        "kernelspec": {
            "name": "SQL",
            "display_name": "SQL",
            "language": "sql"
        },
        "language_info": {
            "name": "sql",
            "version": ""
        }
    },
    "nbformat_minor": 2,
    "nbformat": 4,
    "cells": [
        {
            "cell_type": "markdown",
            "source": [
                "## `Toró Etele 3. Laborfeladat`"
            ],
            "metadata": {
                "azdata_cell_guid": "dc3a0130-f5c4-4dad-96b2-727ef7ad5b46"
            },
            "attachments": {}
        },
        {
            "cell_type": "markdown",
            "source": [
                "1\\. Feladat :\n",
                "\n",
                "> Írjunk **tárolt eljárást**, amely meghatározza azokat a kocsmákat, amelyekben legalább 2 olyan italt árulnak, mint a paraméterként megadott kocsma (@KocsmaNev varchar(30) típusú)! Ha nincs ilyen kocsma, írjunk ki hibaüzenetet, majd szúrjuk be a kocsmát az adatbázisba!\n",
                "> \n",
                ">   \n",
                "> \n",
                "> A feladatot úgy értelmeztem, hogy irassuk ki azokat a kocsmákat, ahol legalább két közös ital található a megadott kocsmával."
            ],
            "metadata": {
                "azdata_cell_guid": "c275e6b7-bbf8-4846-9534-1b264a7e0d46"
            },
            "attachments": {}
        },
        {
            "cell_type": "code",
            "source": [
                "CREATE OR ALTER PROCEDURE FirstTask\r\n",
                "     @KocsmaNev VARCHAR(30)\r\n",
                "AS\r\n",
                "BEGIN\r\n",
                "    IF NOT EXISTS (SELECT * FROM Kocsmak WHERE Nev = @KocsmaNev) --megnézem létezik-e a megadott kocsma\r\n",
                "    BEGIN   --ha nem létezik a megadott kocsma\r\n",
                "        PRINT 'A megadott kocsma nem létezik.'\r\n",
                "        INSERT INTO Kocsmak (KocsmaID, Nev, Cim, NyitasDatuma) --ha nem, beszúrom\r\n",
                "        VALUES(12, @KocsmaNev, 'Valahol itt',  GETDATE())\r\n",
                "    END\r\n",
                "    ELSE    --ha létezik a megadott kocsma\r\n",
                "    BEGIN\r\n",
                "        DECLARE @nev VARCHAR(255)\r\n",
                "        DECLARE @Kocsmanevek TABLE (Nev VARCHAR(30), Kozos INT) --eredmény tábla\r\n",
                "\r\n",
                "        DECLARE kocsma_cursor CURSOR FOR    --deklarálunk egy kurzort mely sorra veszi a kocsmákat\r\n",
                "        SELECT Nev FROM Kocsmak\r\n",
                "\r\n",
                "        OPEN kocsma_cursor\r\n",
                "        SET NOCOUNT ON\r\n",
                "        FETCH NEXT FROM kocsma_cursor INTO @nev\r\n",
                "\r\n",
                "        WHILE @@FETCH_STATUS = 0\r\n",
                "        BEGIN\r\n",
                "            IF (@KocsmaNev = @nev)  --amikor ugyanazt a kocsmat dobja a kurzor mint amit megadtunk, lépjen tovább.\r\n",
                "            BEGIN\r\n",
                "                FETCH NEXT FROM kocsma_cursor INTO @nev\r\n",
                "            END\r\n",
                "\r\n",
                "            --Sorra megnézem a táblában hány közös ital van a megadott kocsmával\r\n",
                "            DECLARE @kozos INT = (SELECT COUNT(*) FROM (\r\n",
                "                SELECT ItalID FROM Arak \r\n",
                "                INNER JOIN Kocsmak ON Kocsmak.KocsmaID = Arak.KocsmaID\r\n",
                "                WHERE Nev = @nev\r\n",
                "                INTERSECT\r\n",
                "                SELECT ItalID FROM Arak \r\n",
                "                INNER JOIN Kocsmak ON Kocsmak.KocsmaID = Arak.KocsmaID\r\n",
                "                WHERE Nev = @KocsmaNev\r\n",
                "            ) AS Kozos)\r\n",
                "\r\n",
                "            IF (@kozos >=2) --ha megfelelő beszúrom\r\n",
                "            BEGIN\r\n",
                "                INSERT INTO @Kocsmanevek\r\n",
                "                VALUES(@nev, @kozos)\r\n",
                "            END\r\n",
                "\r\n",
                "            FETCH NEXT FROM kocsma_cursor INTO @nev\r\n",
                "        END\r\n",
                "\r\n",
                "        SELECT * FROM @Kocsmanevek\r\n",
                "\r\n",
                "        CLOSE kocsma_cursor\r\n",
                "        DEALLOCATE kocsma_cursor\r\n",
                "    END\r\n",
                "END\r\n",
                "GO"
            ],
            "metadata": {
                "azdata_cell_guid": "655c83c1-a155-400a-ba62-26e06d2c09da",
                "tags": []
            },
            "outputs": [
                {
                    "output_type": "display_data",
                    "data": {
                        "text/html": "Commands completed successfully."
                    },
                    "metadata": {}
                },
                {
                    "output_type": "display_data",
                    "data": {
                        "text/html": "Total execution time: 00:00:00.027"
                    },
                    "metadata": {}
                }
            ],
            "execution_count": 3
        },
        {
            "cell_type": "code",
            "source": [
                "EXEC dbo.FirstTask @KocsmaNev='Sandra Tweed'\r\n",
                ""
            ],
            "metadata": {
                "azdata_cell_guid": "fb6718c7-88bf-4a85-a057-f960e2529f54"
            },
            "outputs": [
                {
                    "output_type": "display_data",
                    "data": {
                        "text/html": "Commands completed successfully."
                    },
                    "metadata": {}
                },
                {
                    "output_type": "display_data",
                    "data": {
                        "text/html": "Total execution time: 00:00:00.032"
                    },
                    "metadata": {}
                },
                {
                    "output_type": "execute_result",
                    "execution_count": 4,
                    "data": {
                        "application/vnd.dataresource+json": {
                            "schema": {
                                "fields": [
                                    {
                                        "name": "Nev"
                                    },
                                    {
                                        "name": "Kozos"
                                    }
                                ]
                            },
                            "data": [
                                {
                                    "0": "Frederico Sawley",
                                    "1": "3"
                                },
                                {
                                    "0": "Orren Broadhurst",
                                    "1": "2"
                                },
                                {
                                    "0": "Hedwiga Ledbetter",
                                    "1": "2"
                                }
                            ]
                        },
                        "text/html": "<table><tr><th>Nev</th><th>Kozos</th></tr><tr><td>Frederico Sawley</td><td>3</td></tr><tr><td>Orren Broadhurst</td><td>2</td></tr><tr><td>Hedwiga Ledbetter</td><td>2</td></tr></table>"
                    },
                    "metadata": {}
                }
            ],
            "execution_count": 4
        },
        {
            "cell_type": "markdown",
            "source": [
                "2\\. Feladat :\n",
                "\n",
                "> <span style=\"background-color: rgba(127, 127, 127, 0.1);\">Írjunk&nbsp;</span> **függvényt**<span style=\"background-color: rgba(127, 127, 127, 0.1);\">, melynek bemenő paraméterei: @pBaratNev, @pItaltipusNev. A függvény egy táblában térítse vissza azon kocsmá(k) nevét, címét és a kapható italok nevét és árát mely(ek)et a paraméterként megadott barát kedvel és ahol a megadott italtípusból kapható ital!</span>\n",
                "> \n",
                "> Térítsük vissza a kocsmákat, amit a megadott barát kedvel, és a megadott piák megtalálhatóak."
            ],
            "metadata": {
                "azdata_cell_guid": "2376f204-0283-4b0a-be62-77582c36dd83"
            },
            "attachments": {}
        },
        {
            "cell_type": "code",
            "source": [
                "CREATE OR ALTER FUNCTION secondTask (@pBaratNev VARCHAR(30), @pItalTipusNev VARCHAR(30))\r\n",
                "RETURNS TABLE\r\n",
                "AS\r\n",
                "RETURN\r\n",
                "(\r\n",
                "    SELECT k.Nev, k.Cim, i.Nev as ItalNeve, a.Ar FROM Kocsmak k\r\n",
                "    INNER JOIN Arak a on a.KocsmaID = k.KocsmaID\r\n",
                "    INNER JOIN Italok i on i.ItalID = a.ItalID\r\n",
                "    INNER JOIN ItalTipusok it ON it.TipusID = i.TipusID\r\n",
                "    INNER JOIN Kedvencek f ON f.KocsmaID = k.KocsmaID\r\n",
                "    INNER JOIN Baratok b ON b.BaratID = f.BaratID\r\n",
                "    WHERE b.Nev = @pBaratNev AND it.TipusNev=@pItalTipusNev\r\n",
                ")\r\n",
                "\r\n",
                "GO"
            ],
            "metadata": {
                "azdata_cell_guid": "35f24202-5ed8-45a3-98cb-428ccf08aee7",
                "tags": []
            },
            "outputs": [
                {
                    "output_type": "display_data",
                    "data": {
                        "text/html": "Commands completed successfully."
                    },
                    "metadata": {}
                },
                {
                    "output_type": "display_data",
                    "data": {
                        "text/html": "Total execution time: 00:00:00.018"
                    },
                    "metadata": {}
                }
            ],
            "execution_count": 5
        },
        {
            "cell_type": "code",
            "source": [
                "SELECT * FROM dbo.secondTask('Rik Turbard','tea')"
            ],
            "metadata": {
                "azdata_cell_guid": "7aeb875e-1160-47c0-935e-04a3d89295a0"
            },
            "outputs": [
                {
                    "output_type": "display_data",
                    "data": {
                        "text/html": "(3 rows affected)"
                    },
                    "metadata": {}
                },
                {
                    "output_type": "display_data",
                    "data": {
                        "text/html": "Total execution time: 00:00:00.023"
                    },
                    "metadata": {}
                },
                {
                    "output_type": "execute_result",
                    "execution_count": 6,
                    "data": {
                        "application/vnd.dataresource+json": {
                            "schema": {
                                "fields": [
                                    {
                                        "name": "Nev"
                                    },
                                    {
                                        "name": "Cim"
                                    },
                                    {
                                        "name": "ItalNeve"
                                    },
                                    {
                                        "name": "Ar"
                                    }
                                ]
                            },
                            "data": [
                                {
                                    "0": "Hedwiga Ledbetter",
                                    "1": "6 Packers Parkway",
                                    "2": "Tatra tea",
                                    "3": "33"
                                },
                                {
                                    "0": "Hedwiga Ledbetter",
                                    "1": "6 Packers Parkway",
                                    "2": "Fekete tea",
                                    "3": "29"
                                },
                                {
                                    "0": "Sandra Tweed",
                                    "1": "8 Superior Alley",
                                    "2": "Fekete tea",
                                    "3": "22"
                                }
                            ]
                        },
                        "text/html": "<table><tr><th>Nev</th><th>Cim</th><th>ItalNeve</th><th>Ar</th></tr><tr><td>Hedwiga Ledbetter</td><td>6 Packers Parkway</td><td>Tatra tea</td><td>33</td></tr><tr><td>Hedwiga Ledbetter</td><td>6 Packers Parkway</td><td>Fekete tea</td><td>29</td></tr><tr><td>Sandra Tweed</td><td>8 Superior Alley</td><td>Fekete tea</td><td>22</td></tr></table>"
                    },
                    "metadata": {}
                }
            ],
            "execution_count": 6
        },
        {
            "cell_type": "markdown",
            "source": [
                "3\\. Feladat :\n",
                "\n",
                "> <span style=\"background-color: rgba(127, 127, 127, 0.1);\">Írjunk&nbsp;</span> **DELETE triggert**<span style=\"background-color: rgba(127, 127, 127, 0.1);\">, mely akkor aktiválódik, ha törlünk&nbsp;</span> **egy vagy több** <span style=\"background-color: rgba(127, 127, 127, 0.1);\">&nbsp;sort az ItalTipusok táblából! (</span>**Figyelem!** <span style=\"background-color: rgba(127, 127, 127, 0.1);\">&nbsp;A hivatkozási épség megszorítások fenntartása miatt probléma lehet, ha egy olyan italtípust szeretnék törölni, melyhez tartozik ital. Ezt a problémát orvosoljuk a trigger segítségével! Az adott italtípus mindenképp törlődjön a trigger végrehajtásának következtében!)</span>"
            ],
            "metadata": {
                "azdata_cell_guid": "cdd50ea5-75f7-4471-b5be-755e6b3e72fc"
            },
            "attachments": {}
        },
        {
            "cell_type": "code",
            "source": [
                "CREATE OR ALTER TRIGGER ThirdTask\r\n",
                "ON ItalTipusok\r\n",
                "INSTEAD OF DELETE\r\n",
                "AS\r\n",
                "BEGIN\r\n",
                "    SET NOCOUNT ON\r\n",
                "    DELETE Arak FROM Arak \r\n",
                "    INNER JOIN Italok ON Arak.ItalID=Italok.ItalID\r\n",
                "    WHERE TipusID IN (SELECT TipusID FROM deleted)\r\n",
                "\r\n",
                "    DELETE Italok WHERE Italok.TipusID IN (SELECT TipusID FROM deleted)\r\n",
                "\r\n",
                "    DELETE ItalTipusok WHERE ItalTipusok.TipusID IN (SELECT TipusID FROM deleted)\r\n",
                "END"
            ],
            "metadata": {
                "azdata_cell_guid": "4f0ef5a3-b794-4fbb-82a0-1f2c105db629",
                "tags": []
            },
            "outputs": [
                {
                    "output_type": "display_data",
                    "data": {
                        "text/html": "Commands completed successfully."
                    },
                    "metadata": {}
                },
                {
                    "output_type": "display_data",
                    "data": {
                        "text/html": "Total execution time: 00:00:00.018"
                    },
                    "metadata": {}
                }
            ],
            "execution_count": 7
        },
        {
            "cell_type": "markdown",
            "source": [
                "4\\. Feladat :\n",
                "\n",
                "> <span style=\"background-color: rgba(127, 127, 127, 0.1);\">Írjunk&nbsp;</span> **INSERT** <span style=\"background-color: rgba(127, 127, 127, 0.1);\"> és </span> **UPDATE** <span style=\"background-color: rgba(127, 127, 127, 0.1);\">&nbsp;triggert az Arak táblára vonatkozóan, amely csak akkor engedélyezi a művelet végrehajtását, ha az árak összértéke 5 és 1500 között marad!</span>"
            ],
            "metadata": {
                "azdata_cell_guid": "59b72ce6-2f1a-4153-b613-68079aa6c4ee"
            },
            "attachments": {}
        },
        {
            "cell_type": "code",
            "source": [
                "CREATE OR ALTER TRIGGER FourthTask ON Arak\r\n",
                "INSTEAD OF UPDATE, INSERT\r\n",
                "AS\r\n",
                "BEGIN\r\n",
                "    SET NOCOUNT ON\r\n",
                "    IF(((SELECT SUM(Arak.Ar) FROM Arak)+(SELECT Ar FROM inserted))>5 AND ((SELECT SUM(Arak.Ar) FROM Arak)+(SELECT Ar FROM inserted))<1500)\r\n",
                "    BEGIN\r\n",
                "        IF( EXISTS (SELECT * FROM deleted))\r\n",
                "        BEGIN\r\n",
                "            UPDATE Arak\r\n",
                "            SET Ar=(SELECT Ar FROM inserted) WHERE Arak.ItalID=(SELECT ItalID FROM inserted) AND Arak.KocsmaID=(SELECT KocsmaID FROM inserted)\r\n",
                "        END\r\n",
                "        ELSE\r\n",
                "        BEGIN\r\n",
                "            INSERT INTO Arak (Ar, ItalID, KocsmaID)\r\n",
                "            VALUES((SELECT Ar FROM inserted), (SELECT ItalID FROM inserted), (SELECT KocsmaID FROM inserted))\r\n",
                "        END\r\n",
                "    END\r\n",
                "    ELSE\r\n",
                "        PRINT 'A megadott modositasok miatt az arak osszege nem esik az [5,1500] intervallumba. Probaljon mas ertekeket'\r\n",
                "END"
            ],
            "metadata": {
                "azdata_cell_guid": "43fb92bb-ed54-478d-b2e0-c4ab77a3b884",
                "tags": []
            },
            "outputs": [
                {
                    "output_type": "display_data",
                    "data": {
                        "text/html": "Commands completed successfully."
                    },
                    "metadata": {}
                },
                {
                    "output_type": "display_data",
                    "data": {
                        "text/html": "Total execution time: 00:00:00.015"
                    },
                    "metadata": {}
                }
            ],
            "execution_count": 2
        },
        {
            "cell_type": "markdown",
            "source": [
                "5\\. Feladat :\n",
                "\n",
                "> <span style=\"background-color: rgba(127, 127, 127, 0.1);\">Írjunk&nbsp;</span> **DELETE triggert**<span style=\"background-color: rgba(127, 127, 127, 0.1);\">, amely nem enged törölni olyan kocsmát, melyet legalább 3-an kedvelnek és a nyitás dátuma 2015 után történt!</span>"
            ],
            "metadata": {
                "azdata_cell_guid": "7bdd260a-5db2-4734-bcb6-519e00dce8ad"
            },
            "attachments": {}
        },
        {
            "cell_type": "code",
            "source": [
                "CREATE OR ALTER TRIGGER FifthTask ON Kocsmak\r\n",
                "INSTEAD OF DELETE\r\n",
                "AS\r\n",
                "BEGIN\r\n",
                "    SET NOCOUNT ON\r\n",
                "\r\n",
                "    IF(EXISTS(SELECT * FROM deleted))\r\n",
                "    BEGIN\r\n",
                "        DECLARE @ErtekelesekSzama INT, @nyitasDatuma INT\r\n",
                "\r\n",
                "        SELECT @ErtekelesekSzama=COUNT(Kedvencek.BaratID), @nyitasDatuma=YEAR(Kocsmak.NyitasDatuma) FROM Kocsmak \r\n",
                "        INNER JOIN Kedvencek ON Kocsmak.KocsmaID=Kedvencek.KocsmaID\r\n",
                "        WHERE Kocsmak.Nev=(SELECT Nev FROM deleted)\r\n",
                "        GROUP BY Kocsmak.NyitasDatuma\r\n",
                "\r\n",
                "        IF ( @ErtekelesekSzama > 3 AND @nyitasDatuma >= 2015)\r\n",
                "            PRINT 'A kocsma nem torolheto mert 2015 utan nyilt, es tul nagy nepsyerusegnek orvend.'\r\n",
                "        ELSE\r\n",
                "            BEGIN\r\n",
                "                DELETE Arak FROM Arak INNER JOIN Kocsmak ON Arak.KocsmaID=Kocsmak.KocsmaID WHERE Kocsmak.Nev \r\n",
                "                IN (SELECT Nev FROM deleted)\r\n",
                "\r\n",
                "                DELETE Kedvencek FROM Kedvencek INNER JOIN Kocsmak ON Kedvencek.KocsmaID=Kocsmak.KocsmaID WHERE Kocsmak.Nev \r\n",
                "                IN (SELECT Nev FROM deleted)\r\n",
                "\r\n",
                "                DELETE Kocsmak WHERE Kocsmak.Nev \r\n",
                "                IN (SELECT Nev FROM deleted)\r\n",
                "            END\r\n",
                "    END\r\n",
                "END"
            ],
            "metadata": {
                "azdata_cell_guid": "c88761b8-11de-4da0-9849-e31117b38762"
            },
            "outputs": [
                {
                    "output_type": "display_data",
                    "data": {
                        "text/html": "Commands completed successfully."
                    },
                    "metadata": {}
                },
                {
                    "output_type": "display_data",
                    "data": {
                        "text/html": "Total execution time: 00:00:00.041"
                    },
                    "metadata": {}
                }
            ],
            "execution_count": 42
        },
        {
            "cell_type": "markdown",
            "source": [
                "6\\. Feladat :\n",
                "\n",
                "> **a.** <span style=\"background-color: rgba(127, 127, 127, 0.1);\"> Hozzunk létre egy új táblát:</span>\n",
                "\n",
                ">   Arak\\_Log(ID, Idopont, Muvelet, KocsmaID, KocsmaNev, ItalID, ItalNev, RegiAr, UjAr),\n",
                "> \n",
                "> ahol Idopont-datetime, Muvelet-varchar(50), RegiAr-int, UjAr-int típusú mezők."
            ],
            "metadata": {
                "azdata_cell_guid": "b6b985af-54a8-4f5b-93da-63b4a7515c14"
            },
            "attachments": {}
        },
        {
            "cell_type": "code",
            "source": [
                "CREATE TABLE Arak_Log (\r\n",
                "\tID INT IDENTITY, \r\n",
                "\tIdopont DATETIME, \r\n",
                "\tMuvelet VARCHAR(50), \r\n",
                "\tKocsmaID INT FOREIGN KEY REFERENCES Kocsmak(KocsmaID), \r\n",
                "\tKocsmaNev VARCHAR(50), \r\n",
                "\tItalID INT FOREIGN KEY REFERENCES Italok(ItalID),  \r\n",
                "\tItalNev VARCHAR(50), \r\n",
                "\tRegiAr INT, \r\n",
                "\tUjAr INT\r\n",
                ")"
            ],
            "metadata": {
                "azdata_cell_guid": "86876dc1-ebc2-46bb-83d4-f9ab5de55e08",
                "tags": []
            },
            "outputs": [
                {
                    "output_type": "display_data",
                    "data": {
                        "text/html": "Commands completed successfully."
                    },
                    "metadata": {}
                },
                {
                    "output_type": "display_data",
                    "data": {
                        "text/html": "Total execution time: 00:00:00.019"
                    },
                    "metadata": {}
                }
            ],
            "execution_count": 33
        },
        {
            "cell_type": "markdown",
            "source": [
                "> b.<span style=\"color: rgb(45, 59, 69); font-family: LatoWeb, &quot;Helvetica Neue&quot;, Helvetica, Arial, sans-serif; font-size: 16px; background-color: rgb(255, 255, 255);\">Oldjuk meg, hogy a&nbsp;</span> <span style=\"color: rgb(45, 59, 69); font-family: LatoWeb, &quot;Helvetica Neue&quot;, Helvetica, Arial, sans-serif; font-size: 16px; background-color: rgb(255, 255, 255);\">Kocsmak táblából való törlés esetén az Arak_Log tábla&nbsp;</span> <span style=\"color: rgb(45, 59, 69); font-family: LatoWeb, &quot;Helvetica Neue&quot;, Helvetica, Arial, sans-serif; font-size: 16px; background-color: rgb(255, 255, 255);\">KocsmaID</span> <span style=\"color: rgb(45, 59, 69); font-family: LatoWeb, &quot;Helvetica Neue&quot;, Helvetica, Arial, sans-serif; font-size: 16px; background-color: rgb(255, 255, 255);\">mezőjének értéke&nbsp;</span> <span style=\"color: rgb(45, 59, 69); font-family: LatoWeb, &quot;Helvetica Neue&quot;, Helvetica, Arial, sans-serif; font-size: 16px; background-color: rgb(255, 255, 255);\">NULL-ra módosuljon!</span>"
            ],
            "metadata": {
                "azdata_cell_guid": "7c68e1e1-5ce0-4bdb-a71c-16663915f3c5"
            },
            "attachments": {}
        },
        {
            "cell_type": "code",
            "source": [
                "CREATE OR ALTER TRIGGER SixthTask ON Kocsmak\r\n",
                "INSTEAD OF DELETE\r\n",
                "AS\r\n",
                "BEGIN\r\n",
                "UPDATE Arak_Log SET KocsmaID=NULL WHERE KocsmaID IN (SELECT KocsmaID FROM deleted)\r\n",
                "END"
            ],
            "metadata": {
                "azdata_cell_guid": "7a2ebfff-7847-4ec6-b507-c7df5ac3fab7",
                "tags": []
            },
            "outputs": [
                {
                    "output_type": "error",
                    "ename": "",
                    "evalue": "Msg 2111, Level 16, State 1, Procedure SixthTask, Line 1\r\nCannot create trigger 'SixthTask' on table 'Kocsmak' because an INSTEAD OF DELETE trigger already exists on this object.",
                    "traceback": []
                },
                {
                    "output_type": "display_data",
                    "data": {
                        "text/html": "Total execution time: 00:00:00.001"
                    },
                    "metadata": {}
                }
            ],
            "execution_count": 43
        },
        {
            "cell_type": "markdown",
            "source": [
                "**c.** Írjunk **UPDATE triggert**, mely az Arak tábla Ar mezőjének módosításakor beszúr egy új sort a Arak\\_Log táblába. Az időpont legyen a módosítás időpontja, művelet szövege: ‘ar növelése’ vagy ‘ar csökkentése’, RegiAr-régi érték, UjAr-új érték."
            ],
            "metadata": {
                "azdata_cell_guid": "74d59fce-e305-4d1d-927e-f00437e2f9da"
            },
            "attachments": {}
        },
        {
            "cell_type": "code",
            "source": [
                "CREATE OR ALTER TRIGGER SixthTaskPriceInsert ON Arak\r\n",
                "AFTER UPDATE\r\n",
                "AS \r\n",
                "BEGIN\r\n",
                "    DECLARE @regiar INT, @ujar INT, @kID INT, @iID INT\r\n",
                "    DECLARE @muv VARCHAR(50), @kname VARCHAR(50), @iname VARCHAR(50)\r\n",
                "\r\n",
                "    SELECT @regiar=Ar FROM deleted\r\n",
                "    SELECT @ujar=Ar FROM inserted\r\n",
                "\r\n",
                "    IF (@regiar<@ujar)\r\n",
                "    BEGIN\r\n",
                "        SET @muv='ar novelese'\r\n",
                "    END\r\n",
                "    ELSE\r\n",
                "    BEGIN\r\n",
                "        SET @muv='ar csokkentese'\r\n",
                "    END\r\n",
                " \r\n",
                "    SELECT @kID=KocsmaID FROM inserted\r\n",
                "    SELECT @kname=Kocsmak.Nev FROM inserted\r\n",
                "    INNER JOIN Kocsmak ON Kocsmak.KocsmaID=inserted.KocsmaID\r\n",
                "\r\n",
                "    SELECT @iID=ItalID FROM inserted\r\n",
                "    SELECT @iname=Italok.Nev FROM inserted\r\n",
                "    INNER JOIN Italok ON Italok.ItalID=inserted.KocsmaID\r\n",
                "\r\n",
                "    INSERT INTO Arak_Log(Idopont, Muvelet, RegiAr, UjAr, KocsmaID, ItalID, KocsmaNev, ItalNev)\r\n",
                "    VALUES(GETDATE(), @muv, @regiar, @ujar, @kID, @iID, @kname, @iname)\r\n",
                "END"
            ],
            "metadata": {
                "azdata_cell_guid": "77ec1374-ad51-4856-957e-fbc2fef14834"
            },
            "outputs": [
                {
                    "output_type": "display_data",
                    "data": {
                        "text/html": "Commands completed successfully."
                    },
                    "metadata": {}
                },
                {
                    "output_type": "display_data",
                    "data": {
                        "text/html": "Total execution time: 00:00:00.016"
                    },
                    "metadata": {}
                }
            ],
            "execution_count": 10
        }
    ]
}